{
 "cells": [
  {
   "cell_type": "markdown",
   "metadata": {},
   "source": [
    "# Fitting oscillations with noise\n",
    "\n",
    "This excersize allow you to fit oscillatory datasets and compare different methods to obtain the most precise values. \n",
    "We will in particular:\n",
    "1. Find situations where \"standard fitting works and where it doesn't.\n",
    "2. Apply methods of Fourier analysis.\n",
    "3. Use Peak fitting algorithms to define parameters\n",
    "\n",
    "\n",
    "The exercise is made to play around with a simple, self generated data and combine calculations with direct simulations. This is not curriculum, but can turn in valuable for your future careers. \n",
    "\n",
    "### References:\n",
    "- Lecture on Time series\n",
    "\n",
    "### Authors: \n",
    "- Mathias L. Heltberg (Niels Bohr Institute)\n",
    "\n",
    "### Date:    \n",
    "- 10-01-2023 (latest update)\n",
    "\n",
    "***"
   ]
  },
  {
   "cell_type": "markdown",
   "metadata": {},
   "source": [
    "As always we will include a collection of libraries (Standard)"
   ]
  },
  {
   "cell_type": "code",
   "execution_count": null,
   "metadata": {},
   "outputs": [],
   "source": [
    "import numpy as np                                     # Matlab like syntax for linear algebra and functions\n",
    "from numpy.linalg import matrix_power                  # This is to raise matrices to powers\n",
    "import matplotlib.pyplot as plt                        # Plots and figures like you know them from Matlab\n",
    "import seaborn as sns                                  # Make the plots nicer to look at\n",
    "from iminuit import Minuit                             # The actual fitting tool, better than scipy's\n",
    "import sys                                             # Module to see files and folders in directories\n",
    "from scipy import stats\n",
    "from scipy.fft import fft,fftfreq"
   ]
  },
  {
   "cell_type": "markdown",
   "metadata": {},
   "source": [
    "Naturally we will here need a random generator:"
   ]
  },
  {
   "cell_type": "code",
   "execution_count": null,
   "metadata": {},
   "outputs": [],
   "source": [
    "r = np.random # Random generator\n",
    "r.seed(42)    # Set a random seed (but a fixed one)"
   ]
  },
  {
   "cell_type": "markdown",
   "metadata": {},
   "source": [
    "Next we will generate some data:"
   ]
  },
  {
   "cell_type": "code",
   "execution_count": null,
   "metadata": {},
   "outputs": [],
   "source": [
    "t = 0; dt = 0.0001; omega = np.pi\n",
    "x = 2; y = 1; tmax = 100;\n",
    "\n",
    "ts = 0.1; click = 0;\n",
    "dS1 = np.zeros((int(tmax/ts)+1,3));\n",
    "\n",
    "while t < tmax:\n",
    "    t += dt\n",
    "    dx = y;\n",
    "    dy = -omega**2*x + 0.1*y*(1-x**2);\n",
    "    x += dt*dx\n",
    "    y += dt*dy\n",
    "    if (t>ts*click):\n",
    "        dS1[click,0] = t;\n",
    "        dS1[click,1] = x;\n",
    "        dS1[click,2] = y;\n",
    "        click+=1\n",
    "plt.plot(dS1[:,0],dS1[:,1])\n",
    "plt.xlabel('time [AU]'); plt.ylabel('y-value [AU]'); plt.title('A deterministic oscillator')\n",
    "plt.show()"
   ]
  },
  {
   "cell_type": "markdown",
   "metadata": {},
   "source": [
    "Now we insert experimental noise levels - i.e. randomness in the measurements:"
   ]
  },
  {
   "cell_type": "code",
   "execution_count": null,
   "metadata": {},
   "outputs": [],
   "source": [
    "t = 0; dt = 0.0001; omega = np.pi\n",
    "x = 2; y = 1; tmax = 100;\n",
    "\n",
    "ts = 0.1; click = 0;\n",
    "dS2 = np.zeros((int(tmax/ts)+1,3));\n",
    "sigma_exp = 0.33;\n",
    "while t < tmax:\n",
    "    t += dt\n",
    "    dx = y;\n",
    "    dy = -omega**2*x + 0.1*y*(1-x**2);\n",
    "    x += dt*dx\n",
    "    y += dt*dy\n",
    "    if (t>ts*click):\n",
    "        dS2[click,0] = t;\n",
    "        dS2[click,1] = x + np.random.normal()*sigma_exp;\n",
    "        dS2[click,2] = y + np.random.normal()*sigma_exp;\n",
    "        click+=1\n",
    "plt.plot(dS2[:,0],dS2[:,1])\n",
    "plt.xlabel('time [AU]'); plt.ylabel('y-value [AU]'); plt.title('An oscillator with experimental noise')\n",
    "plt.show()\n"
   ]
  },
  {
   "cell_type": "markdown",
   "metadata": {},
   "source": [
    "Now we insert stochasticity in the traces and experimental noise levels:"
   ]
  },
  {
   "cell_type": "code",
   "execution_count": null,
   "metadata": {},
   "outputs": [],
   "source": [
    "t = 0; dt = 0.0001; omega = np.pi\n",
    "x = 2; y = 1; tmax = 100;\n",
    "\n",
    "ts = 0.1; click = 0;\n",
    "dS3 = np.zeros((int(tmax/ts)+1,3));\n",
    "sigma_exp = 0.33;\n",
    "sigma_trace = 1;\n",
    "while t < tmax:\n",
    "    t += dt\n",
    "    dx = y;\n",
    "    dy = -omega**2*x + 0.1*y*(1-x**2);\n",
    "    x += dt*dx \n",
    "    y += dt*dy + np.random.normal()*np.sqrt(dt)*sigma_trace\n",
    "    if (t>ts*click):\n",
    "        dS3[click,0] = t;\n",
    "        dS3[click,1] = x + np.random.normal()*sigma_exp;\n",
    "        dS3[click,2] = y + np.random.normal()*sigma_exp;\n",
    "        click+=1\n",
    "plt.plot(dS3[:,0],dS3[:,1])\n",
    "plt.xlabel('time [AU]'); plt.ylabel('y-value [AU]'); plt.title('A stochastic oscillator - with experimental noise')\n",
    "plt.show()"
   ]
  },
  {
   "cell_type": "markdown",
   "metadata": {},
   "source": [
    "And finally lets assume that we on top of all this has a stochastic drift in the background:"
   ]
  },
  {
   "cell_type": "code",
   "execution_count": null,
   "metadata": {},
   "outputs": [],
   "source": [
    "t = 0; dt = 0.0001; omega = np.pi\n",
    "x = 2; y = 1; tmax = 100;\n",
    "\n",
    "ts = 0.1; click = 0; c = 0;\n",
    "dS4 = np.zeros((int(tmax/ts)+1,3));\n",
    "sigma_exp = 0.33;\n",
    "sigma_c = 1;\n",
    "sigma_trace = 1;\n",
    "while t < tmax:\n",
    "    t += dt\n",
    "    dx = y;\n",
    "    dy = -omega**2*x + 0.1*y*(1-x**2);\n",
    "    c += np.random.normal()*np.sqrt(dt)*sigma_c;\n",
    "    x += dt*dx \n",
    "    y += dt*dy + np.random.normal()*np.sqrt(dt)*sigma_trace\n",
    "    if (t>ts*click):\n",
    "        dS4[click,0] = t;\n",
    "        dS4[click,1] = x + np.random.normal()*sigma_exp + c;\n",
    "        dS4[click,2] = y + np.random.normal()*sigma_exp + c;\n",
    "        click+=1\n",
    "plt.plot(dS4[:,0],dS4[:,1])\n",
    "plt.xlabel('time [AU]'); plt.ylabel('y-value [AU]'); plt.title('A stochastic oscillator - with background and experimental noise')\n",
    "plt.show()\n"
   ]
  },
  {
   "cell_type": "markdown",
   "metadata": {},
   "source": [
    "## We now have 4 datasets, dS1,dS2,dS3 and dS4. We want to compare methods that determine the frequency and the amplitude of these traces."
   ]
  },
  {
   "cell_type": "markdown",
   "metadata": {},
   "source": [
    "To apply the Fourier analysis, a template is here made to estimate the amplitudes and frequencies of $x=sin(t)+0.1\\cdot sin(10t)$"
   ]
  },
  {
   "cell_type": "code",
   "execution_count": null,
   "metadata": {},
   "outputs": [],
   "source": [
    "TS = 0.1;\n",
    "t = np.linspace(1,1000,1000)*TS\n",
    "x = np.sin(t)+0.1*np.sin(10*t)\n",
    "N = len(x); \n",
    "yf = fft(x); xf = fftfreq(N, TS)[:N//2]\n",
    "yn = 2.0/N * np.abs(yf[0:N//2]);\n",
    "xn = xf[1:]\n",
    "zn = yn[1:]\n",
    "\n",
    "plt.plot(xn*(2*np.pi),zn)"
   ]
  },
  {
   "cell_type": "markdown",
   "metadata": {},
   "source": [
    "Determining the frequency and amplitude is quite dependent on estimating the position of the peaks. A VERY SIMPLE (maybe too simple) algorithm could be the following:"
   ]
  },
  {
   "cell_type": "code",
   "execution_count": null,
   "metadata": {},
   "outputs": [],
   "source": [
    "X = dS2[:,1];\n",
    "peaks = [];\n",
    "n_sig = 5;\n",
    "for i in range (n_sig,len(X)-n_sig):\n",
    "    acc = 1;\n",
    "    for itmp in range (1,n_sig+1):\n",
    "        if (X[i]>X[i-itmp] and X[i]>X[i+itmp]):\n",
    "            continue\n",
    "        else:\n",
    "            acc = 0\n",
    "    if acc == 1:\n",
    "        peaks.append(i)\n",
    "peaks = np.array(peaks)\n",
    "plt.plot(dS2[:,0],dS2[:,1])\n",
    "plt.plot(dS2[peaks,0],dS2[peaks,1],'o')\n"
   ]
  },
  {
   "cell_type": "markdown",
   "metadata": {},
   "source": [
    "Fitting a simple dataset is naturally done in the following way:"
   ]
  },
  {
   "cell_type": "code",
   "execution_count": null,
   "metadata": {},
   "outputs": [],
   "source": [
    "##### Note this is a simple fitting algorithm - should be applied for question 1 ##########\n",
    "t = np.linspace(1,100,10000)\n",
    "y_sig = 0.3\n",
    "y = 2*np.sin(np.sqrt(2)*t)+np.random.normal(0,y_sig,10000)\n",
    "plt.plot(t,y)\n",
    "\n",
    "def Osci(t,A,omega):\n",
    "    return A*np.sin(omega*t)\n",
    "def min_Osci(A,omega):\n",
    "    Chi2 = ((y-Osci(t,A,omega))/y_sig)**2\n",
    "    return np.sum(Chi2)\n",
    "m_nll2 = Minuit(min_Osci,A=1,omega=np.sqrt(2.1)); m_nll2.limits['A'] = (0,10000); m_nll2.limits['omega'] = (0,100); \n",
    "m_nll2.errordef = 1.0;\n",
    "m_nll2.migrad()\n",
    "A_fit = m_nll2.values[0]\n",
    "omega_fit = m_nll2.values[1]\n",
    "\n",
    "plt.plot(t,Osci(t,A_fit,omega_fit))"
   ]
  },
  {
   "cell_type": "code",
   "execution_count": null,
   "metadata": {},
   "outputs": [],
   "source": [
    "##### Note this is for the Advanced question ##########\n",
    "\n",
    "t = 0; dt = 0.0001; omega = np.pi\n",
    "x1 = 2; y1 = 1; x2 = 2; y2 = 1; x3 = 2; y3 = 1; x4 = 2; y4 = 1; \n",
    "sigma_trace = 1\n",
    "sigma_exp = 0.1;\n",
    "tmax = 100;\n",
    "dS8 = np.zeros((int(tmax/ts)+1,9));\n",
    "ts = 0.1; click = 0;\n",
    "def dfx (x,y):    \n",
    "    dx = y;\n",
    "    dy = -omega**2*x + 0.1*y*(1-x**2);\n",
    "    x += dt*dx \n",
    "    y += dt*dy + np.random.normal()*np.sqrt(dt)*sigma_trace\n",
    "    return (x,y)\n",
    "    \n",
    "while t < tmax:\n",
    "    t += dt\n",
    "    x1,y1 = dfx(x1,y1)\n",
    "    x2,y2 = dfx(x2,y2)\n",
    "    x3,y3 = dfx(x3,y3)\n",
    "    x4,y4 = dfx(x4,y4)\n",
    "    if (t>ts*click):\n",
    "        dS8[click,0] = t;\n",
    "        dS8[click,1] = x1 + np.random.normal()*sigma_exp;\n",
    "        dS8[click,2] = y1 + np.random.normal()*sigma_exp;\n",
    "        dS8[click,3] = x2 + np.random.normal()*sigma_exp;\n",
    "        dS8[click,4] = y2 + np.random.normal()*sigma_exp;\n",
    "        dS8[click,5] = x3 + np.random.normal()*sigma_exp;\n",
    "        dS8[click,6] = y3 + np.random.normal()*sigma_exp;\n",
    "        dS8[click,7] = x4 + np.random.normal()*sigma_exp;\n",
    "        dS8[click,8] = y4 + np.random.normal()*sigma_exp;\n",
    "        click+=1\n",
    "        \n",
    "        \n",
    "t = dS8[:,0]\n",
    "idx = np.random.permutation(8)\n",
    "D_mat = dS8[:,1:]; D_mat = D_mat[:,idx]\n",
    "\n",
    "plt.plot(t,D_mat[:,0])\n",
    "plt.plot(t,D_mat[:,1])\n",
    "\n",
    "plt.xlabel('time [AU]'); plt.ylabel('y-value [AU]'); plt.title('')\n",
    "plt.show()"
   ]
  },
  {
   "cell_type": "markdown",
   "metadata": {},
   "source": [
    "## Questions:\n",
    "\n",
    "This exercise is made to test your ability to extract particular features in the some quite stochastic data:\n",
    "\n",
    "1) Start by applying the standard minuit fit. How many data sets can you fit and which values do you obtain? What about the uncertainty? For which data set does this method break down? Think about why! (note: for the completely deterministic case, you can fit without uncertainties - but do not put these to zero!)\n",
    "\n",
    "2) Now try to apply the Fourier analysis as written in the template. Can you estimate the parameters in all four data sets? (hint: You might have to subtact background by a polynomial fitting on the 4th dataset)\n",
    "\n",
    "3) Try to apply the peak finding algorithm (or write a better yourself!). Can you apply the methods similar to the fitting you applied related to the pendulum experiment. How precise can you estimate the parameters of the data sets?\n",
    "\n",
    "### Advanced question:\n",
    "\n",
    "4) In the matrix, D_mat, you have 8 time series of which they are generated in pairs. That means that each time series does have a \"natural partner\". Can you determine which series are partners?\n",
    "\n",
    "\n",
    "# Learning points\n",
    "\n",
    "This is simple introduction to the analysis of time series with the potentially most fundamental problem: The oscillator.\n",
    "\n",
    "It is important that we can apply the fitting techniques learnt so far, but sometimes these might break down. Here the good scientist can break the problem down and focus on the main element - here extracting the frequency and amplitude from some very stochastic traces.\n",
    "\n",
    "From this exercise, you should have learned:\n",
    "\n",
    "1) How to fit oscillatory data - this should be accomplihsed for the first two datasets. \n",
    "\n",
    "2) How to apply the Fourier analysis and extract the values of an oscillatory time series\n",
    "\n",
    "3) Find and indentify the peaks of a time series and apply the methods previously used"
   ]
  }
 ],
 "metadata": {
  "kernelspec": {
   "display_name": "Python 3",
   "language": "python",
   "name": "python3"
  },
  "language_info": {
   "codemirror_mode": {
    "name": "ipython",
    "version": 3
   },
   "file_extension": ".py",
   "mimetype": "text/x-python",
   "name": "python",
   "nbconvert_exporter": "python",
   "pygments_lexer": "ipython3",
   "version": "3.7.6"
  }
 },
 "nbformat": 4,
 "nbformat_minor": 5
}
