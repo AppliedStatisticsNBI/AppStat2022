{
 "cells": [
  {
   "cell_type": "markdown",
   "metadata": {},
   "source": [
    "# Solving Ehrenfest Diffusion with Markov Chains\n",
    "\n",
    "This excersize covers the problem put forward by the famous physicist and one of the fathers of statistical mechanics. We will learn how to formulate a problem in terms of specific states and calculate probabilities based on the Markov property. We will in particular:\n",
    "1. Compute probabilities based on matrix operations.\n",
    "2. Compare the computed results with simple simulations.\n",
    "\n",
    "The exercise is made to play around with a simple thought experiment and combine calculations with direct simulations. This is not curriculum, but can turn in valuable for your future careers. \n",
    "\n",
    "### References:\n",
    "- Lecture on Markov Chains\n",
    "\n",
    "### Authors: \n",
    "- Mathias L. Heltberg (Niels Bohr Institute)\n",
    "\n",
    "### Date:    \n",
    "- 29-12-2021 (latest update)\n",
    "\n",
    "***"
   ]
  },
  {
   "cell_type": "markdown",
   "metadata": {},
   "source": [
    "As always we will include a collection of libraries (Standard)"
   ]
  },
  {
   "cell_type": "code",
   "execution_count": null,
   "metadata": {},
   "outputs": [],
   "source": [
    "import numpy as np                                     # Matlab like syntax for linear algebra and functions\n",
    "from numpy.linalg import matrix_power                  # This is to raise matrices to powers\n",
    "import matplotlib.pyplot as plt                        # Plots and figures like you know them from Matlab\n",
    "import seaborn as sns                                  # Make the plots nicer to look at\n",
    "from iminuit import Minuit                             # The actual fitting tool, better than scipy's\n",
    "import sys                                             # Module to see files and folders in directories\n",
    "from scipy import stats"
   ]
  },
  {
   "cell_type": "markdown",
   "metadata": {},
   "source": [
    "Naturally we will here need a random generator:"
   ]
  },
  {
   "cell_type": "code",
   "execution_count": null,
   "metadata": {},
   "outputs": [],
   "source": [
    "r = np.random # Random generator\n",
    "r.seed(42)    # Set a random seed (but a fixed one)"
   ]
  },
  {
   "cell_type": "markdown",
   "metadata": {},
   "source": [
    "And now for the actual problem: We have two baskets, a blue and a red. We have 10 balls, and each turn we pick a random ball and move it from the basket it is in, over to the other basket.\n",
    "\n",
    "**We want to compute the probability that there are 7 balls in the blue basket after 20 turns, given that 3 balls are in the blue container in the beginning.**\n",
    "\n",
    "This assignment is tricky, since the probability must be affected by the number of balls after 19 turns, and this is affected by the situation after 18 turns etc.\n",
    "\n",
    "Therefore we start by simulating the situation:"
   ]
  },
  {
   "cell_type": "code",
   "execution_count": null,
   "metadata": {},
   "outputs": [],
   "source": [
    "NB = 10; ### This is the number of balls - note the number of states is NB+1. Do you understand why?\n",
    "Initial_Place = np.zeros((NB,), dtype=int)\n",
    "Initial_Place[3:] = 1; ### Make initial distribution\n",
    "print(Initial_Place)"
   ]
  },
  {
   "cell_type": "markdown",
   "metadata": {},
   "source": [
    "Now we have the initial setting in place. We next simulate the 20 turns:"
   ]
  },
  {
   "cell_type": "code",
   "execution_count": null,
   "metadata": {},
   "outputs": [],
   "source": [
    "ntest = 50 ### Number of times we perform the experiment - this can be changed\n",
    "nturns = 20 ### The 20 turns we pick the balls\n",
    "H20 = np.zeros(ntest)\n",
    "for itest in range(ntest):\n",
    "    Place = Initial_Place.copy()\n",
    "    Nballs = np.zeros(nturns+1) ### Here we count the number of balls in the blue basket (i.e. basket #0)\n",
    "    Nballs[0] = np.sum(Place==0)\n",
    "    for iturns in range(nturns):\n",
    "        id = np.random.randint(0,10) ### Generates an integer between 0 and 7\n",
    "        if (Place[id] == 0):\n",
    "            Place[id] = 1\n",
    "        else:\n",
    "            Place[id] = 0\n",
    "        Nballs[iturns +1] = np.sum(Place==0)\n",
    "\n",
    "    \n",
    "    if (itest == 0):\n",
    "        fig = plt.figure(figsize=[7,5])\n",
    "        ax = plt.subplot(111)\n",
    "        ax.plot(np.arange(0,nturns+1,1), Nballs,'-x')\n",
    "        ax.set_xlabel('Turn #')\n",
    "        ax.set_ylabel('State')\n",
    "        ax.set_title('Evolution of state')\n",
    "\n",
    "        # set the limits\n",
    "        ax.set_xlim(0, 20)\n",
    "        ax.set_ylim(0, 10)\n",
    "\n",
    "        # set the grid on\n",
    "        ax.grid('on')\n",
    "    H20[itest] = np.sum(Place==0)\n",
    "    \n"
   ]
  },
  {
   "cell_type": "markdown",
   "metadata": {},
   "source": [
    "So far we have plotted one realization of the ball swapping experiment. Lets us plot the distribution after 20 turns..."
   ]
  },
  {
   "cell_type": "code",
   "execution_count": null,
   "metadata": {},
   "outputs": [],
   "source": [
    "plt.figure(figsize=(10,6), tight_layout=True)\n",
    "bins = np.arange(0,11,1)\n",
    "# matplotlib\n",
    "plt.hist(H20, bins=bins, color=sns.color_palette('Set2')[2], linewidth=4)\n",
    "plt.title('State after 20 turns')\n",
    "plt.xlabel('State #')\n",
    "plt.ylabel('Occurrence')\n",
    "print(H20)\n"
   ]
  },
  {
   "cell_type": "markdown",
   "metadata": {},
   "source": [
    "So far for the simulations. We now go to the derivations based on the Markov Chain formulation. We construct the matrix of jump probabilities. It can be constructed by:"
   ]
  },
  {
   "cell_type": "code",
   "execution_count": null,
   "metadata": {},
   "outputs": [],
   "source": [
    "M = np.zeros((NB+1,NB+1))\n",
    "for i in range(NB+1):\n",
    "    if (i==0):\n",
    "        M[i,i+1] = (NB-i)/NB\n",
    "    elif (i==NB):\n",
    "        M[i,i-1] = i/NB\n",
    "    else:\n",
    "        M[i,i-1] = i/NB\n",
    "        M[i,i+1] = (NB-i)/NB\n",
    "\n",
    "print(M)"
   ]
  },
  {
   "cell_type": "markdown",
   "metadata": {},
   "source": [
    "Based on this matrix, we want to compute the probabilities of being in the different states. This is what we do here:"
   ]
  },
  {
   "cell_type": "code",
   "execution_count": null,
   "metadata": {},
   "outputs": [],
   "source": [
    "V1 = np.zeros((1,NB+1)); V1[0,3] = 1; ### Note V1 represents the initial probability of states (all is in state 3)\n",
    "V2 = np.zeros(NB+1); V2[9] = 1 ### Note V2 represents the outcome probability (Here we are interested in state 9)\n",
    "print('Probability of initial state is:',V1)\n",
    "\n",
    "PAfter = np.matmul(V1,matrix_power(np.ones((NB+1,NB+1)),1)) #### Insert your calculations here!!!##########\n",
    "P9 = np.matmul(PAfter,np.zeros(NB+1)) #### Insert your calculations here!!! #############\n",
    "print('The probability array after n swappings is: ',PAfter)"
   ]
  },
  {
   "cell_type": "markdown",
   "metadata": {},
   "source": [
    "# Questions:\n",
    "\n",
    "This exercise is made to understand and simulate a simple thought experiment, where the calculations can easily be very tedious. The questions here aims at understanding the results and playing with the system:\n",
    "\n",
    "1) Start by looking at the matrix M. Do you understand why it has the shape it does? What is the probability to have 9 balls in the blue basked (basket #0) after 21 turns? Why is this?\n",
    "\n",
    "2) Rewrite the system so at each turn there is a 50% chance of nothing happens (ie no ball is moved). How does this affect the probabilities? Can all states be reached after 20 turns?\n",
    "\n",
    "3) Change the number of turns to something much larger (try 1000). What value is the most probable to reach? Does this make sense?\n",
    "\n",
    "### Advanced question:\n",
    "\n",
    "4) Assume that the state #10 (where all balls are blue) is an absorbing state, so nothing changes after this state is reached. What is the average number of turns to reach this? Can you find a PDF that fits the distribution of first passage times?\n",
    "\n",
    "5) Assume that the initial position of the balls is not always three blue, but instead a poissonian distribution with mean=1. How does this change the distribution to reach state 10? Can you fit this distribution?"
   ]
  },
  {
   "cell_type": "markdown",
   "metadata": {},
   "source": [
    "# Learning points\n",
    "\n",
    "This is simple introduction of the application of Markov Chains and their use in calculations on simple probability questions.\n",
    "\n",
    "What is important in this, is that all probabilities at a specific state, depends completely on the last state etc. This makes all calculations iterative and this is almost impossible from \"standard\" frequentist approaches. The construction of a Transfer matrix simplifies such calculations enormously and it is hoped you will appreciate this.\n",
    "\n",
    "From this exercise, you should have learned:\n",
    "\n",
    "1) How to calculate probabilities in a problem, where measurements are not independent and the (n+1)'th state is based on the n'th state. \n",
    "\n",
    "2) How to construct a transfer matrix based on a simple setup.\n",
    "\n",
    "3) Understand why an equlibrium state is reached and how one can use a probability distribution in the first state to calculate a probability in the n'th state."
   ]
  }
 ],
 "metadata": {
  "kernelspec": {
   "display_name": "Python 3",
   "language": "python",
   "name": "python3"
  },
  "language_info": {
   "codemirror_mode": {
    "name": "ipython",
    "version": 3
   },
   "file_extension": ".py",
   "mimetype": "text/x-python",
   "name": "python",
   "nbconvert_exporter": "python",
   "pygments_lexer": "ipython3",
   "version": "3.7.6"
  }
 },
 "nbformat": 4,
 "nbformat_minor": 5
}
