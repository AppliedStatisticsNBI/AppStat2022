{
 "cells": [
  {
   "cell_type": "markdown",
   "metadata": {},
   "source": [
    "# Analyze Ball on Incline data\n",
    "Use this notebook to quickly test whether your ball on incline data makes sense!"
   ]
  },
  {
   "cell_type": "code",
   "execution_count": null,
   "metadata": {},
   "outputs": [],
   "source": [
    "# Imports\n",
    "import os, sys\n",
    "import numpy as np\n",
    "import matplotlib.pyplot as plt"
   ]
  },
  {
   "cell_type": "markdown",
   "metadata": {},
   "source": [
    "## Reading the data\n",
    "\n",
    "The function \"read_csv(filename)\" takes in a filename and returns numpy arrays with time and voltage."
   ]
  },
  {
   "cell_type": "code",
   "execution_count": null,
   "metadata": {},
   "outputs": [],
   "source": [
    "def read_csv(filename):\n",
    "    \"\"\"Read CSV from Waveforms\"\"\"\n",
    "    dat = np.genfromtxt(filename, delimiter=',', skip_header=13, names=True)\n",
    "    time = dat['Time_s']\n",
    "    voltage = dat['Channel_1_V']\n",
    "    return time, voltage\n",
    "\n",
    "def find_midpoints(time, voltage, show_plot=True):\n",
    "    \"\"\"Find timing of ball crossings\"\"\"\n",
    "    \n",
    "    # Write a function yourself, which identifies the peaks in the voltage,\n",
    "    # and returns values for passing times and (possibly) their uncertainties\n",
    "    # in it (but they are generally very small!).\n",
    "    t_pass = [0.0, 0.1]\n",
    "    t_pass_sigma = [0.0001, 0.00001]\n",
    "    \n",
    "    return t_pass, t_pass_sigma"
   ]
  },
  {
   "cell_type": "code",
   "execution_count": null,
   "metadata": {
    "code_folding": [],
    "scrolled": false
   },
   "outputs": [],
   "source": [
    "# Read the data and plot it (possibly with passing times in):\n",
    "filename = 'data_BallOnIncline_example/ball7_8mm_example.csv'\n",
    "\n",
    "time, voltage = read_csv(filename)\n",
    "timepass, timepass_sig = find_midpoints(time, voltage)\n",
    "\n",
    "fig, ax = plt.subplots(figsize=(14, 6))\n",
    "ax.plot(time, voltage, 'k.', label='Measurements')\n",
    "ax.set_title(\"Data from Ball-on-Incline experiment\")\n",
    "ax.set_xlabel(\"Time (s)\", fontsize=18)\n",
    "ax.set_ylabel(\"Voltage (V)\", fontsize=18)"
   ]
  },
  {
   "cell_type": "markdown",
   "metadata": {},
   "source": [
    "# What to do next?\n",
    "\n",
    "From the V(t) data you should be able to determine five times at which the ball passed. Discuss in the group how to do this best, and possibly test it by seeing if the result is \"invariant\" between different data sets.\n",
    "\n",
    "Note that getting an uncertainty can be hard, and think about the relevance of such an uncertainty, which should anyway be rather small."
   ]
  }
 ],
 "metadata": {
  "kernelspec": {
   "display_name": "Python 3",
   "language": "python",
   "name": "python3"
  },
  "language_info": {
   "codemirror_mode": {
    "name": "ipython",
    "version": 3
   },
   "file_extension": ".py",
   "mimetype": "text/x-python",
   "name": "python",
   "nbconvert_exporter": "python",
   "pygments_lexer": "ipython3",
   "version": "3.7.6"
  }
 },
 "nbformat": 4,
 "nbformat_minor": 2
}
