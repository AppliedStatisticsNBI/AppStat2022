{
 "cells": [
  {
   "cell_type": "markdown",
   "metadata": {},
   "source": [
    "### Script for reading data for Problem 5.1 (data_GlacierSizes.txt) in Applied Statistics 2022 exam:\n",
    "\n",
    "This script reads the file __\"data_GlacierSizes.txt\"__ for Problem 5.1 in the exam of Applied Statistics 2022/23. This data files contains 433 entries in four columns: \n",
    "\n",
    "* **Area** of glacier\n",
    "* **sigArea** i.e. uncertainty of Area of glacier\n",
    "* **Volume** of glacier\n",
    "* **sigVolume** i.e. uncertainty of Volume of glacier\n",
    "\n",
    "The script was distributed along with the exam and the data file itself on the 19th of January 2023.\n",
    "\n",
    "####  Author: \n",
    "- Troels Petersen (Niels Bohr Institute, petersen@nbi.dk)\n",
    "\n",
    "####  Date:   \n",
    " - 18th of January 2022 (latest version)"
   ]
  },
  {
   "cell_type": "code",
   "execution_count": null,
   "metadata": {},
   "outputs": [],
   "source": [
    "import pandas as pd"
   ]
  },
  {
   "cell_type": "code",
   "execution_count": null,
   "metadata": {},
   "outputs": [],
   "source": [
    "dataframe = pd.read_csv('data_GlacierSizes.csv', header=0, index_col=None)\n",
    "Area, sigArea, Volume, sigVolume = dataframe.values.T\n",
    "dataframe"
   ]
  }
 ],
 "metadata": {
  "executable": "/usr/bin/env python",
  "kernelspec": {
   "display_name": "Python 3",
   "language": "python",
   "name": "python3"
  },
  "language_info": {
   "codemirror_mode": {
    "name": "ipython",
    "version": 3
   },
   "file_extension": ".py",
   "mimetype": "text/x-python",
   "name": "python",
   "nbconvert_exporter": "python",
   "pygments_lexer": "ipython3",
   "version": "3.7.6"
  },
  "main_language": "python"
 },
 "nbformat": 4,
 "nbformat_minor": 2
}
