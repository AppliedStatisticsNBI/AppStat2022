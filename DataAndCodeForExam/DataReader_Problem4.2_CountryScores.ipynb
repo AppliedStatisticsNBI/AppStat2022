{
 "cells": [
  {
   "cell_type": "markdown",
   "metadata": {},
   "source": [
    "### Script for reading data for Problem 4.2 (data_CountryScores.txt) in Applied Statistics 2022 exam:\n",
    "\n",
    "This script reads the file __\"data_CountryScores.txt\"__ for Problem 4.2 in the exam of Applied Statistics 2022/23. This data files contains 133 entries in seven columns: \n",
    "\n",
    "* **Country**, Name of country\n",
    "* **GDP**, Gross Domestic Product (per capita) of the country\n",
    "* **Population Size**, of the country\n",
    "* **Happiness index** of the country,\n",
    "* **Economic Freedom index** of the country,\n",
    "* **PressFreedom index** of the country,\n",
    "* **Education index** of the country,\n",
    "\n",
    "The script was distributed along with the exam and the data file itself on the 19th of January 2023.\n",
    "\n",
    "####  Author: \n",
    "- Troels Petersen (Niels Bohr Institute, petersen@nbi.dk)\n",
    "\n",
    "####  Date:   \n",
    " - 18th of January 2022 (latest version)"
   ]
  },
  {
   "cell_type": "code",
   "execution_count": null,
   "metadata": {},
   "outputs": [],
   "source": [
    "import pandas as pd"
   ]
  },
  {
   "cell_type": "code",
   "execution_count": null,
   "metadata": {},
   "outputs": [],
   "source": [
    "dataframe = pd.read_csv('data_CountryScores.txt', header=1, index_col=None)\n",
    "Country, GDP, PopSize, HappinessI, EconomicFreedomI, PressFreedomI, EducationI = dataframe.values.T\n",
    "dataframe"
   ]
  }
 ],
 "metadata": {
  "executable": "/usr/bin/env python",
  "kernelspec": {
   "display_name": "Python 3",
   "language": "python",
   "name": "python3"
  },
  "language_info": {
   "codemirror_mode": {
    "name": "ipython",
    "version": 3
   },
   "file_extension": ".py",
   "mimetype": "text/x-python",
   "name": "python",
   "nbconvert_exporter": "python",
   "pygments_lexer": "ipython3",
   "version": "3.7.6"
  },
  "main_language": "python"
 },
 "nbformat": 4,
 "nbformat_minor": 2
}
